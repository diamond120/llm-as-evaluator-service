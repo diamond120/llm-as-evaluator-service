{
 "cells": [
  {
   "cell_type": "code",
   "execution_count": 1,
   "metadata": {},
   "outputs": [
    {
     "name": "stdout",
     "output_type": "stream",
     "text": [
      "06/26/2024 03:18:30 PM - DEBUG - This is a debug message. LOGGING INITIALIZED.\n",
      "06/26/2024 03:18:30 PM - INFO - This is an info message. LOGGING INITIALIZED.\n"
     ]
    },
    {
     "name": "stderr",
     "output_type": "stream",
     "text": [
      "/Users/daniel/anaconda3/envs/evaluator/lib/python3.12/site-packages/pydantic/_internal/_fields.py:151: UserWarning: Field \"model_responses\" has conflict with protected namespace \"model_\".\n",
      "\n",
      "You may be able to resolve this warning by setting `model_config['protected_namespaces'] = ()`.\n",
      "  warnings.warn(\n"
     ]
    }
   ],
   "source": [
    "\n",
    "from evaluators.library.graph_code_checker import GraphCodeCheckerEvaluator, InputSchema, OutputSchema\n",
    "from AgentCodiaEvaluator.Agents.utils import llm_as_evaluator\n",
    "\n",
    "parsed_notebooks = llm_as_evaluator.parse_notebooks([open(\"/Users/daniel/Desktop/Projects/xxxx/AgentCodiaEvaluator/demo_sample/fibonacci.ipynb\", \"r\").read()])\n"
   ]
  },
  {
   "cell_type": "code",
   "execution_count": 2,
   "metadata": {},
   "outputs": [
    {
     "name": "stdout",
     "output_type": "stream",
     "text": [
      "06/26/2024 03:18:35 PM - DEBUG - Initializing BaseEvaluator with name: echo\n",
      "06/26/2024 03:18:35 PM - DEBUG - Validating schema\n",
      "06/26/2024 03:18:35 PM - DEBUG - Schema: {}\n",
      "06/26/2024 03:18:35 PM - DEBUG - Data: {'graph_recursion': 50, 'turn_workers': 4, 'test_workers': 4}\n"
     ]
    }
   ],
   "source": [
    "a = GraphCodeCheckerEvaluator(\n",
    "    name = \"echo\", # just any name\n",
    "    config = {\n",
    "        \"graph_recursion\": 50,\n",
    "        \"turn_workers\": 4,\n",
    "        \"test_workers\": 4\n",
    "    },\n",
    "    llm_config= {\"provider\":\"openai_api\", \"model\":\"gpt-4o\"},\n",
    "    config_schema= {},\n",
    "    input_schema = InputSchema.model_json_schema(),\n",
    "    output_schema= OutputSchema.model_json_schema()\n",
    "    \n",
    ")"
   ]
  },
  {
   "cell_type": "code",
   "execution_count": 3,
   "metadata": {},
   "outputs": [
    {
     "name": "stdout",
     "output_type": "stream",
     "text": [
      "06/26/2024 03:18:35 PM - INFO - Starting evaluation...\n",
      "06/26/2024 03:18:35 PM - INFO - Validating input data...\n",
      "06/26/2024 03:18:35 PM - DEBUG - Validating input data\n",
      "06/26/2024 03:18:35 PM - DEBUG - Validating schema\n",
      "06/26/2024 03:18:35 PM - DEBUG - Schema: {'description': 'This class represents the input schema for the graph code checker.\\nIt includes metadata, conversation data, and counts for happy and edge cases.', 'properties': {'metadata': {'description': 'The metadata of the input.', 'title': 'Metadata'}, 'conversation': {'description': 'The conversation data.', 'items': {'type': 'object'}, 'title': 'Conversation', 'type': 'array'}, 'happy_cases_count': {'description': 'The number of happy cases', 'title': 'Happy Cases Count', 'type': 'integer'}, 'edge_cases_count': {'description': 'The number of edge cases', 'title': 'Edge Cases Count', 'type': 'integer'}}, 'required': ['metadata', 'conversation', 'happy_cases_count', 'edge_cases_count'], 'title': 'InputSchema', 'type': 'object'}\n",
      "06/26/2024 03:18:35 PM - DEBUG - Data: {'metadata': {'metadata': '# Metadata'}, 'conversation': [{'cell_pos': 1, 'role': 'User', 'content': 'Write me a python code to print fibonacci series', 'type': 'markdown'}, {'cell_pos': 2, 'role': 'Assistant', 'content': 'def print_fibonacci(n):\\n    a, b = 0, 1\\n    for _ in range(n):\\n        print(a)\\n        a, b = b, a + b\\n\\n# Call the function with the number of terms you want to print\\nprint_fibonacci(10)', 'type': 'code'}], 'happy_cases_count': 1, 'edge_cases_count': 1}\n",
      "06/26/2024 03:18:35 PM - DEBUG - Counting tokens and validating input data\n",
      "06/26/2024 03:18:35 PM - DEBUG - Token count: 150, Max tokens allowed: 10000\n",
      "06/26/2024 03:18:35 PM - INFO - Running multiple turns...\n",
      "NOTEBOOK:  {'metadata': {'metadata': '# Metadata'}, 'conversation': [{'cell_pos': 1, 'role': 'User', 'content': 'Write me a python code to print fibonacci series', 'type': 'markdown'}, {'cell_pos': 2, 'role': 'Assistant', 'content': 'def print_fibonacci(n):\\n    a, b = 0, 1\\n    for _ in range(n):\\n        print(a)\\n        a, b = b, a + b\\n\\n# Call the function with the number of terms you want to print\\nprint_fibonacci(10)', 'type': 'code'}]}\n",
      "06/26/2024 03:18:38 PM - INFO - HTTP Request: POST https://api.openai.com/v1/chat/completions \"HTTP/1.1 200 OK\"\n",
      "Validating output schema.....\n",
      "06/26/2024 03:18:44 PM - INFO - HTTP Request: POST https://api.openai.com/v1/chat/completions \"HTTP/1.1 200 OK\"\n",
      "Happy path output:  {'happy_paths': [\"Call the function with n=1 and check if it prints '0'\", \"Call the function with n=2 and check if it prints '0' and '1'\", \"Call the function with n=3 and check if it prints '0', '1', and '1'\", \"Call the function with n=5 and check if it prints the first 5 Fibonacci numbers: '0', '1', '1', '2', '3'\", \"Call the function with n=10 and check if it prints the first 10 Fibonacci numbers: '0', '1', '1', '2', '3', '5', '8', '13', '21', '34'\", 'Call the function with n=0 and check if it prints nothing', 'Call the function with n=15 and check if it prints the first 15 Fibonacci numbers', 'Call the function with a large n (e.g., 50) and check if it prints the first 50 Fibonacci numbers', 'Call the function with n=20 and check if it prints the first 20 Fibonacci numbers', 'Call the function with n=7 and check if it prints the first 7 Fibonacci numbers'], 'code': 'def print_fibonacci(n):\\n    a, b = 0, 1\\n    for _ in range(n):\\n        print(a)\\n        a, b = b, a + b\\n\\n# Call the function with the number of terms you want to print\\nprint_fibonacci(10)'}\n",
      "06/26/2024 03:18:49 PM - INFO - HTTP Request: POST https://api.openai.com/v1/chat/completions \"HTTP/1.1 200 OK\"\n",
      "Edge case output:  {'edge_cases': ['n is 0 (should handle gracefully without printing anything)', 'n is 1 (should print only the first term of the Fibonacci series)', 'n is a negative number (should handle gracefully, possibly by not printing anything or showing an error message)', 'n is a very large number (tests the performance and memory usage)', 'n is a non-integer value (should handle gracefully, possibly by showing an error message)', 'n is a string (should handle gracefully, possibly by showing an error message)', 'n is None (should handle gracefully, possibly by showing an error message)', 'Concurrent executions with different values of n to check for race conditions', 'n is maximum integer value supported by Python (sys.maxsize)', 'n is a float that is exactly an integer equivalent (e.g., 10.0)']}\n",
      "06/26/2024 03:18:54 PM - INFO - HTTP Request: POST https://api.openai.com/v1/chat/completions \"HTTP/1.1 200 OK\"\n",
      "Issues found:  {'issues': [{'cell_position': 1, 'what': 'The function print_fibonacci does not include a docstring.', 'why': 'Docstrings are important for documenting the purpose and usage of the function, making the code more understandable.', 'where': 'def print_fibonacci(n):', 'severity': 'Low', 'fix': 'Add a docstring to the function explaining its purpose and parameters.'}, {'cell_position': 1, 'what': 'The function does not handle invalid input for n.', 'why': 'If n is not a positive integer, the function may produce unexpected results or errors.', 'where': 'def print_fibonacci(n):', 'severity': 'Medium', 'fix': 'Add input validation to ensure n is a positive integer.'}, {'cell_position': 1, 'what': 'The function prints the Fibonacci sequence instead of returning it.', 'why': 'Printing the sequence limits the usability of the function as it cannot be used programmatically.', 'where': 'print(a)', 'severity': 'Medium', 'fix': 'Modify the function to return the Fibonacci sequence as a list instead of printing it.'}]}\n",
      "06/26/2024 03:18:59 PM - INFO - HTTP Request: POST https://api.openai.com/v1/chat/completions \"HTTP/1.1 200 OK\"\n"
     ]
    },
    {
     "data": {
      "text/html": [
       "<pre style=\"white-space:pre;overflow-x:auto;line-height:normal;font-family:Menlo,'DejaVu Sans Mono',consolas,'Courier New',monospace\"><span style=\"color: #008080; text-decoration-color: #008080\">###TURN:</span><span style=\"color: #008080; text-decoration-color: #008080; font-weight: bold\">0</span><span style=\"color: #008080; text-decoration-color: #008080\">-&gt;TEST0### I am calling the function `CodeExec`</span>\n",
       "</pre>\n"
      ],
      "text/plain": [
       "\u001b[36m###TURN:\u001b[0m\u001b[1;36m0\u001b[0m\u001b[36m->TEST0### I am calling the function `CodeExec`\u001b[0m\n"
      ]
     },
     "metadata": {},
     "output_type": "display_data"
    },
    {
     "data": {
      "text/html": [
       "<pre style=\"white-space:pre;overflow-x:auto;line-height:normal;font-family:Menlo,'DejaVu Sans Mono',consolas,'Courier New',monospace\"><span style=\"color: #008080; text-decoration-color: #008080\">###TURN:</span><span style=\"color: #008080; text-decoration-color: #008080; font-weight: bold\">0</span><span style=\"color: #008080; text-decoration-color: #008080\">-&gt;TEST0### </span><span style=\"color: #008080; text-decoration-color: #008080; font-weight: bold\">{</span><span style=\"color: #008000; text-decoration-color: #008000\">\"CodeExec\"</span><span style=\"color: #008080; text-decoration-color: #008080\">: </span><span style=\"color: #008080; text-decoration-color: #008080; font-weight: bold\">{</span><span style=\"color: #008000; text-decoration-color: #008000\">\"run\"</span><span style=\"color: #008080; text-decoration-color: #008080\">: </span><span style=\"color: #008080; text-decoration-color: #008080; font-weight: bold\">{</span><span style=\"color: #008000; text-decoration-color: #008000\">\"exitcode\"</span><span style=\"color: #008080; text-decoration-color: #008080\">: </span><span style=\"color: #008080; text-decoration-color: #008080; font-weight: bold\">0</span><span style=\"color: #008080; text-decoration-color: #008080\">, </span><span style=\"color: #008000; text-decoration-color: #008000\">\"out\"</span><span style=\"color: #008080; text-decoration-color: #008080\">: </span><span style=\"color: #008000; text-decoration-color: #008000\">\"Test case: n is 0\\n\"</span><span style=\"color: #008080; text-decoration-color: #008080\">, </span><span style=\"color: #008000; text-decoration-color: #008000\">\"error\"</span><span style=\"color: #008080; text-decoration-color: #008080\">: </span><span style=\"color: #008000; text-decoration-color: #008000\">\"\"</span><span style=\"color: #008080; text-decoration-color: #008080\">, </span><span style=\"color: #008000; text-decoration-color: #008000\">\"timing\"</span><span style=\"color: #008080; text-decoration-color: #008080\">: </span>\n",
       "<span style=\"color: #008080; text-decoration-color: #008080; font-weight: bold\">{</span><span style=\"color: #008000; text-decoration-color: #008000\">\"real\"</span><span style=\"color: #008080; text-decoration-color: #008080\">: </span><span style=\"color: #008080; text-decoration-color: #008080; font-weight: bold\">44</span><span style=\"color: #008080; text-decoration-color: #008080\">, </span><span style=\"color: #008000; text-decoration-color: #008000\">\"user\"</span><span style=\"color: #008080; text-decoration-color: #008080\">: </span><span style=\"color: #008080; text-decoration-color: #008080; font-weight: bold\">33</span><span style=\"color: #008080; text-decoration-color: #008080\">, </span><span style=\"color: #008000; text-decoration-color: #008000\">\"sys\"</span><span style=\"color: #008080; text-decoration-color: #008080\">: </span><span style=\"color: #008080; text-decoration-color: #008080; font-weight: bold\">14</span><span style=\"color: #008080; text-decoration-color: #008080; font-weight: bold\">}}</span><span style=\"color: #008080; text-decoration-color: #008080\">, </span><span style=\"color: #008000; text-decoration-color: #008000\">\"memory_usage\"</span><span style=\"color: #008080; text-decoration-color: #008080\">: </span><span style=\"color: #008080; text-decoration-color: #008080; font-weight: bold\">11272192</span><span style=\"color: #008080; text-decoration-color: #008080; font-weight: bold\">}}</span>\n",
       "</pre>\n"
      ],
      "text/plain": [
       "\u001b[36m###TURN:\u001b[0m\u001b[1;36m0\u001b[0m\u001b[36m->TEST0### \u001b[0m\u001b[1;36m{\u001b[0m\u001b[32m\"CodeExec\"\u001b[0m\u001b[36m: \u001b[0m\u001b[1;36m{\u001b[0m\u001b[32m\"run\"\u001b[0m\u001b[36m: \u001b[0m\u001b[1;36m{\u001b[0m\u001b[32m\"exitcode\"\u001b[0m\u001b[36m: \u001b[0m\u001b[1;36m0\u001b[0m\u001b[36m, \u001b[0m\u001b[32m\"out\"\u001b[0m\u001b[36m: \u001b[0m\u001b[32m\"Test case: n is 0\\n\"\u001b[0m\u001b[36m, \u001b[0m\u001b[32m\"error\"\u001b[0m\u001b[36m: \u001b[0m\u001b[32m\"\"\u001b[0m\u001b[36m, \u001b[0m\u001b[32m\"timing\"\u001b[0m\u001b[36m: \u001b[0m\n",
       "\u001b[1;36m{\u001b[0m\u001b[32m\"real\"\u001b[0m\u001b[36m: \u001b[0m\u001b[1;36m44\u001b[0m\u001b[36m, \u001b[0m\u001b[32m\"user\"\u001b[0m\u001b[36m: \u001b[0m\u001b[1;36m33\u001b[0m\u001b[36m, \u001b[0m\u001b[32m\"sys\"\u001b[0m\u001b[36m: \u001b[0m\u001b[1;36m14\u001b[0m\u001b[1;36m}\u001b[0m\u001b[1;36m}\u001b[0m\u001b[36m, \u001b[0m\u001b[32m\"memory_usage\"\u001b[0m\u001b[36m: \u001b[0m\u001b[1;36m11272192\u001b[0m\u001b[1;36m}\u001b[0m\u001b[1;36m}\u001b[0m\n"
      ]
     },
     "metadata": {},
     "output_type": "display_data"
    },
    {
     "name": "stdout",
     "output_type": "stream",
     "text": [
      "06/26/2024 03:19:03 PM - INFO - HTTP Request: POST https://api.openai.com/v1/chat/completions \"HTTP/1.1 200 OK\"\n"
     ]
    },
    {
     "data": {
      "text/html": [
       "<pre style=\"white-space:pre;overflow-x:auto;line-height:normal;font-family:Menlo,'DejaVu Sans Mono',consolas,'Courier New',monospace\"><span style=\"color: #008080; text-decoration-color: #008080\">###TURN:</span><span style=\"color: #008080; text-decoration-color: #008080; font-weight: bold\">0</span><span style=\"color: #008080; text-decoration-color: #008080\">-&gt;TEST0### </span><span style=\"color: #008080; text-decoration-color: #008080; font-weight: bold\">{</span><span style=\"color: #008000; text-decoration-color: #008000\">\"test_code\"</span><span style=\"color: #008080; text-decoration-color: #008080\">: </span><span style=\"color: #008000; text-decoration-color: #008000\">\"def print_fibonacci(n):\\n    a, b = 0, 1\\n    for _ in range(n):\\n        </span>\n",
       "<span style=\"color: #008000; text-decoration-color: #008000\">print(a)\\n        a, b = b, a + b\\n\\n# Test case: n is 0 (should handle gracefully without printing </span>\n",
       "<span style=\"color: #008000; text-decoration-color: #008000\">anything)\\nprint(\\\"Test case: n is 0\\\")\\nprint_fibonacci(0)\"</span><span style=\"color: #008080; text-decoration-color: #008080\">, </span><span style=\"color: #008000; text-decoration-color: #008000\">\"result\"</span><span style=\"color: #008080; text-decoration-color: #008080\">: </span><span style=\"color: #008000; text-decoration-color: #008000\">\"PASSED\"</span><span style=\"color: #008080; text-decoration-color: #008080\">, </span><span style=\"color: #008000; text-decoration-color: #008000\">\"comment\"</span><span style=\"color: #008080; text-decoration-color: #008080\">: </span><span style=\"color: #008000; text-decoration-color: #008000\">\"The function handled </span>\n",
       "<span style=\"color: #008000; text-decoration-color: #008000\">the case where n is 0 gracefully without printing anything.\"</span><span style=\"color: #008080; text-decoration-color: #008080; font-weight: bold\">}</span>\n",
       "</pre>\n"
      ],
      "text/plain": [
       "\u001b[36m###TURN:\u001b[0m\u001b[1;36m0\u001b[0m\u001b[36m->TEST0### \u001b[0m\u001b[1;36m{\u001b[0m\u001b[32m\"test_code\"\u001b[0m\u001b[36m: \u001b[0m\u001b[32m\"def print_fibonacci\u001b[0m\u001b[32m(\u001b[0m\u001b[32mn\u001b[0m\u001b[32m)\u001b[0m\u001b[32m:\\n    a, b = 0, 1\\n    for _ in range\u001b[0m\u001b[32m(\u001b[0m\u001b[32mn\u001b[0m\u001b[32m)\u001b[0m\u001b[32m:\\n        \u001b[0m\n",
       "\u001b[32mprint\u001b[0m\u001b[32m(\u001b[0m\u001b[32ma\u001b[0m\u001b[32m)\u001b[0m\u001b[32m\\n        a, b = b, a + b\\n\\n# Test case: n is 0 \u001b[0m\u001b[32m(\u001b[0m\u001b[32mshould handle gracefully without printing \u001b[0m\n",
       "\u001b[32manything\u001b[0m\u001b[32m)\u001b[0m\u001b[32m\\nprint\u001b[0m\u001b[32m(\u001b[0m\u001b[32m\\\"Test case: n is 0\\\"\u001b[0m\u001b[32m)\u001b[0m\u001b[32m\\nprint_fibonacci\u001b[0m\u001b[32m(\u001b[0m\u001b[32m0\u001b[0m\u001b[32m)\u001b[0m\u001b[32m\"\u001b[0m\u001b[36m, \u001b[0m\u001b[32m\"result\"\u001b[0m\u001b[36m: \u001b[0m\u001b[32m\"PASSED\"\u001b[0m\u001b[36m, \u001b[0m\u001b[32m\"comment\"\u001b[0m\u001b[36m: \u001b[0m\u001b[32m\"The function handled \u001b[0m\n",
       "\u001b[32mthe case where n is 0 gracefully without printing anything.\"\u001b[0m\u001b[1;36m}\u001b[0m\n"
      ]
     },
     "metadata": {},
     "output_type": "display_data"
    },
    {
     "name": "stdout",
     "output_type": "stream",
     "text": [
      "06/26/2024 03:19:10 PM - INFO - HTTP Request: POST https://api.openai.com/v1/chat/completions \"HTTP/1.1 200 OK\"\n"
     ]
    },
    {
     "data": {
      "text/html": [
       "<pre style=\"white-space:pre;overflow-x:auto;line-height:normal;font-family:Menlo,'DejaVu Sans Mono',consolas,'Courier New',monospace\"><span style=\"color: #800000; text-decoration-color: #800000\">###TURN:</span><span style=\"color: #008080; text-decoration-color: #008080; font-weight: bold\">0</span><span style=\"color: #800000; text-decoration-color: #800000\">-&gt;TEST1### I am calling the function `CodeExec`</span>\n",
       "</pre>\n"
      ],
      "text/plain": [
       "\u001b[31m###TURN:\u001b[0m\u001b[1;36m0\u001b[0m\u001b[31m->TEST1### I am calling the function `CodeExec`\u001b[0m\n"
      ]
     },
     "metadata": {},
     "output_type": "display_data"
    },
    {
     "data": {
      "text/html": [
       "<pre style=\"white-space:pre;overflow-x:auto;line-height:normal;font-family:Menlo,'DejaVu Sans Mono',consolas,'Courier New',monospace\"><span style=\"color: #800000; text-decoration-color: #800000\">###TURN:</span><span style=\"color: #008080; text-decoration-color: #008080; font-weight: bold\">0</span><span style=\"color: #800000; text-decoration-color: #800000\">-&gt;TEST1### </span><span style=\"color: #800000; text-decoration-color: #800000; font-weight: bold\">{</span><span style=\"color: #008000; text-decoration-color: #008000\">\"CodeExec\"</span><span style=\"color: #800000; text-decoration-color: #800000\">: </span><span style=\"color: #800000; text-decoration-color: #800000; font-weight: bold\">{</span><span style=\"color: #008000; text-decoration-color: #008000\">\"run\"</span><span style=\"color: #800000; text-decoration-color: #800000\">: </span><span style=\"color: #800000; text-decoration-color: #800000; font-weight: bold\">{</span><span style=\"color: #008000; text-decoration-color: #008000\">\"exitcode\"</span><span style=\"color: #800000; text-decoration-color: #800000\">: </span><span style=\"color: #008080; text-decoration-color: #008080; font-weight: bold\">0</span><span style=\"color: #800000; text-decoration-color: #800000\">, </span><span style=\"color: #008000; text-decoration-color: #008000\">\"out\"</span><span style=\"color: #800000; text-decoration-color: #800000\">: </span><span style=\"color: #008000; text-decoration-color: #008000\">\"Output: 0\\n\\nExpected Output: 0\\n\\nTest Passed: </span>\n",
       "<span style=\"color: #008000; text-decoration-color: #008000\">True\\n\"</span><span style=\"color: #800000; text-decoration-color: #800000\">, </span><span style=\"color: #008000; text-decoration-color: #008000\">\"error\"</span><span style=\"color: #800000; text-decoration-color: #800000\">: </span><span style=\"color: #008000; text-decoration-color: #008000\">\"\"</span><span style=\"color: #800000; text-decoration-color: #800000\">, </span><span style=\"color: #008000; text-decoration-color: #008000\">\"timing\"</span><span style=\"color: #800000; text-decoration-color: #800000\">: </span><span style=\"color: #800000; text-decoration-color: #800000; font-weight: bold\">{</span><span style=\"color: #008000; text-decoration-color: #008000\">\"real\"</span><span style=\"color: #800000; text-decoration-color: #800000\">: </span><span style=\"color: #008080; text-decoration-color: #008080; font-weight: bold\">42</span><span style=\"color: #800000; text-decoration-color: #800000\">, </span><span style=\"color: #008000; text-decoration-color: #008000\">\"user\"</span><span style=\"color: #800000; text-decoration-color: #800000\">: </span><span style=\"color: #008080; text-decoration-color: #008080; font-weight: bold\">27</span><span style=\"color: #800000; text-decoration-color: #800000\">, </span><span style=\"color: #008000; text-decoration-color: #008000\">\"sys\"</span><span style=\"color: #800000; text-decoration-color: #800000\">: </span><span style=\"color: #008080; text-decoration-color: #008080; font-weight: bold\">19</span><span style=\"color: #800000; text-decoration-color: #800000; font-weight: bold\">}}</span><span style=\"color: #800000; text-decoration-color: #800000\">, </span><span style=\"color: #008000; text-decoration-color: #008000\">\"memory_usage\"</span><span style=\"color: #800000; text-decoration-color: #800000\">: </span><span style=\"color: #008080; text-decoration-color: #008080; font-weight: bold\">1757184</span><span style=\"color: #800000; text-decoration-color: #800000; font-weight: bold\">}}</span>\n",
       "</pre>\n"
      ],
      "text/plain": [
       "\u001b[31m###TURN:\u001b[0m\u001b[1;36m0\u001b[0m\u001b[31m->TEST1### \u001b[0m\u001b[1;31m{\u001b[0m\u001b[32m\"CodeExec\"\u001b[0m\u001b[31m: \u001b[0m\u001b[1;31m{\u001b[0m\u001b[32m\"run\"\u001b[0m\u001b[31m: \u001b[0m\u001b[1;31m{\u001b[0m\u001b[32m\"exitcode\"\u001b[0m\u001b[31m: \u001b[0m\u001b[1;36m0\u001b[0m\u001b[31m, \u001b[0m\u001b[32m\"out\"\u001b[0m\u001b[31m: \u001b[0m\u001b[32m\"Output: 0\\n\\nExpected Output: 0\\n\\nTest Passed: \u001b[0m\n",
       "\u001b[32mTrue\\n\"\u001b[0m\u001b[31m, \u001b[0m\u001b[32m\"error\"\u001b[0m\u001b[31m: \u001b[0m\u001b[32m\"\"\u001b[0m\u001b[31m, \u001b[0m\u001b[32m\"timing\"\u001b[0m\u001b[31m: \u001b[0m\u001b[1;31m{\u001b[0m\u001b[32m\"real\"\u001b[0m\u001b[31m: \u001b[0m\u001b[1;36m42\u001b[0m\u001b[31m, \u001b[0m\u001b[32m\"user\"\u001b[0m\u001b[31m: \u001b[0m\u001b[1;36m27\u001b[0m\u001b[31m, \u001b[0m\u001b[32m\"sys\"\u001b[0m\u001b[31m: \u001b[0m\u001b[1;36m19\u001b[0m\u001b[1;31m}\u001b[0m\u001b[1;31m}\u001b[0m\u001b[31m, \u001b[0m\u001b[32m\"memory_usage\"\u001b[0m\u001b[31m: \u001b[0m\u001b[1;36m1757184\u001b[0m\u001b[1;31m}\u001b[0m\u001b[1;31m}\u001b[0m\n"
      ]
     },
     "metadata": {},
     "output_type": "display_data"
    },
    {
     "name": "stdout",
     "output_type": "stream",
     "text": [
      "06/26/2024 03:19:15 PM - INFO - HTTP Request: POST https://api.openai.com/v1/chat/completions \"HTTP/1.1 200 OK\"\n"
     ]
    },
    {
     "data": {
      "text/html": [
       "<pre style=\"white-space:pre;overflow-x:auto;line-height:normal;font-family:Menlo,'DejaVu Sans Mono',consolas,'Courier New',monospace\"><span style=\"color: #800000; text-decoration-color: #800000\">###TURN:</span><span style=\"color: #008080; text-decoration-color: #008080; font-weight: bold\">0</span><span style=\"color: #800000; text-decoration-color: #800000\">-&gt;TEST1### </span><span style=\"color: #800000; text-decoration-color: #800000; font-weight: bold\">{</span><span style=\"color: #008000; text-decoration-color: #008000\">\"test_code\"</span><span style=\"color: #800000; text-decoration-color: #800000\">: </span><span style=\"color: #008000; text-decoration-color: #008000\">\"import io\\nimport sys\\n\\ndef print_fibonacci(n):\\n    a, b = 0, 1\\n    for _ in </span>\n",
       "<span style=\"color: #008000; text-decoration-color: #008000\">range(n):\\n        print(a)\\n        a, b = b, a + b\\n\\n# Test code\\n# Redirect stdout to capture print </span>\n",
       "<span style=\"color: #008000; text-decoration-color: #008000\">statements\\nold_stdout = sys.stdout\\nnew_stdout = io.StringIO()\\nsys.stdout = new_stdout\\n\\n# Call the function </span>\n",
       "<span style=\"color: #008000; text-decoration-color: #008000\">with n=1\\nprint_fibonacci(1)\\n\\n# Reset stdout\\nsys.stdout = old_stdout\\n\\n# Get the output and check if it matches</span>\n",
       "<span style=\"color: #008000; text-decoration-color: #008000\">'0\\\\n'\\noutput = new_stdout.getvalue()\\nexpected_output = '0\\\\n'\\n\\nprint(f\\\"Output: {output}\\\")\\nprint(f\\\"Expected</span>\n",
       "<span style=\"color: #008000; text-decoration-color: #008000\">Output: {expected_output}\\\")\\nprint(f\\\"Test Passed: {output == expected_output}\\\")\"</span><span style=\"color: #800000; text-decoration-color: #800000\">, </span><span style=\"color: #008000; text-decoration-color: #008000\">\"result\"</span><span style=\"color: #800000; text-decoration-color: #800000\">: </span><span style=\"color: #008000; text-decoration-color: #008000\">\"PASSED\"</span><span style=\"color: #800000; text-decoration-color: #800000\">, </span><span style=\"color: #008000; text-decoration-color: #008000\">\"comment\"</span><span style=\"color: #800000; text-decoration-color: #800000\">:</span>\n",
       "<span style=\"color: #008000; text-decoration-color: #008000\">\"The test passed successfully. The function print_fibonacci(1) correctly printed '0'.\"</span><span style=\"color: #800000; text-decoration-color: #800000; font-weight: bold\">}</span>\n",
       "</pre>\n"
      ],
      "text/plain": [
       "\u001b[31m###TURN:\u001b[0m\u001b[1;36m0\u001b[0m\u001b[31m->TEST1### \u001b[0m\u001b[1;31m{\u001b[0m\u001b[32m\"test_code\"\u001b[0m\u001b[31m: \u001b[0m\u001b[32m\"import io\\nimport sys\\n\\ndef print_fibonacci\u001b[0m\u001b[32m(\u001b[0m\u001b[32mn\u001b[0m\u001b[32m)\u001b[0m\u001b[32m:\\n    a, b = 0, 1\\n    for _ in \u001b[0m\n",
       "\u001b[32mrange\u001b[0m\u001b[32m(\u001b[0m\u001b[32mn\u001b[0m\u001b[32m)\u001b[0m\u001b[32m:\\n        print\u001b[0m\u001b[32m(\u001b[0m\u001b[32ma\u001b[0m\u001b[32m)\u001b[0m\u001b[32m\\n        a, b = b, a + b\\n\\n# Test code\\n# Redirect stdout to capture print \u001b[0m\n",
       "\u001b[32mstatements\\nold_stdout = sys.stdout\\nnew_stdout = io.StringIO\u001b[0m\u001b[32m(\u001b[0m\u001b[32m)\u001b[0m\u001b[32m\\nsys.stdout = new_stdout\\n\\n# Call the function \u001b[0m\n",
       "\u001b[32mwith \u001b[0m\u001b[32mn\u001b[0m\u001b[32m=\u001b[0m\u001b[32m1\u001b[0m\u001b[32m\\nprint_fibonacci\u001b[0m\u001b[32m(\u001b[0m\u001b[32m1\u001b[0m\u001b[32m)\u001b[0m\u001b[32m\\n\\n# Reset stdout\\nsys.stdout = old_stdout\\n\\n# Get the output and check if it matches\u001b[0m\n",
       "\u001b[32m'0\\\\n'\\noutput = new_stdout.getvalue\u001b[0m\u001b[32m(\u001b[0m\u001b[32m)\u001b[0m\u001b[32m\\nexpected_output = '0\\\\n'\\n\\nprint\u001b[0m\u001b[32m(\u001b[0m\u001b[32mf\\\"Output: \u001b[0m\u001b[32m{\u001b[0m\u001b[32moutput\u001b[0m\u001b[32m}\u001b[0m\u001b[32m\\\"\u001b[0m\u001b[32m)\u001b[0m\u001b[32m\\nprint\u001b[0m\u001b[32m(\u001b[0m\u001b[32mf\\\"Expected\u001b[0m\n",
       "\u001b[32mOutput: \u001b[0m\u001b[32m{\u001b[0m\u001b[32mexpected_output\u001b[0m\u001b[32m}\u001b[0m\u001b[32m\\\"\u001b[0m\u001b[32m)\u001b[0m\u001b[32m\\nprint\u001b[0m\u001b[32m(\u001b[0m\u001b[32mf\\\"Test Passed: \u001b[0m\u001b[32m{\u001b[0m\u001b[32moutput == expected_output\u001b[0m\u001b[32m}\u001b[0m\u001b[32m\\\"\u001b[0m\u001b[32m)\u001b[0m\u001b[32m\"\u001b[0m\u001b[31m, \u001b[0m\u001b[32m\"result\"\u001b[0m\u001b[31m: \u001b[0m\u001b[32m\"PASSED\"\u001b[0m\u001b[31m, \u001b[0m\u001b[32m\"comment\"\u001b[0m\u001b[31m:\u001b[0m\n",
       "\u001b[32m\"The test passed successfully. The function print_fibonacci\u001b[0m\u001b[32m(\u001b[0m\u001b[32m1\u001b[0m\u001b[32m)\u001b[0m\u001b[32m correctly printed '0'.\"\u001b[0m\u001b[1;31m}\u001b[0m\n"
      ]
     },
     "metadata": {},
     "output_type": "display_data"
    },
    {
     "name": "stdout",
     "output_type": "stream",
     "text": [
      "06/26/2024 03:19:23 PM - INFO - HTTP Request: POST https://api.openai.com/v1/chat/completions \"HTTP/1.1 200 OK\"\n",
      "Validating output schema.....\n",
      "06/26/2024 03:19:23 PM - INFO - Formatting output...\n"
     ]
    }
   ],
   "source": [
    "result = a.evaluate(\n",
    "    input_data= {\n",
    "        \"metadata\": parsed_notebooks[0]['metadata'],\n",
    "        \"conversation\": parsed_notebooks[0]['conversation'],\n",
    "    },\n",
    "    config={ \"happy_cases_count\": 1, \"edge_cases_count\": 1,},\n",
    "    format_to_issues_scores=True\n",
    "    \n",
    ")"
   ]
  },
  {
   "cell_type": "code",
   "execution_count": 4,
   "metadata": {},
   "outputs": [
    {
     "name": "stdout",
     "output_type": "stream",
     "text": [
      "********************************\n",
      "Turn: 0\n",
      "What: The function print_fibonacci does not include a docstring.\n",
      "Why: Docstrings are important for documenting the purpose and usage of the function, making the code more understandable.\n",
      "Where: def print_fibonacci(n):\n",
      "Severity: Low\n",
      "Fix: Add a docstring to the function explaining its purpose and parameters.\n",
      "\n",
      "********************************\n",
      "Turn: 0\n",
      "What: The function does not handle invalid input for n.\n",
      "Why: If n is not a positive integer, the function may produce unexpected results or errors.\n",
      "Where: def print_fibonacci(n):\n",
      "Severity: Medium\n",
      "Fix: Add input validation to ensure n is a positive integer.\n",
      "\n",
      "********************************\n",
      "Turn: 0\n",
      "What: The function prints the Fibonacci sequence instead of returning it.\n",
      "Why: Printing the sequence limits the usability of the function as it cannot be used programmatically.\n",
      "Where: print(a)\n",
      "Severity: Medium\n",
      "Fix: Modify the function to return the Fibonacci sequence as a list instead of printing it.\n",
      "\n"
     ]
    }
   ],
   "source": [
    "for issue in result[\"issues\"]:\n",
    "    print(\"********************************\")\n",
    "    print(issue)\n"
   ]
  },
  {
   "cell_type": "code",
   "execution_count": 5,
   "metadata": {},
   "outputs": [
    {
     "name": "stdout",
     "output_type": "stream",
     "text": [
      "3.0\n"
     ]
    }
   ],
   "source": [
    "print(result[\"score\"])"
   ]
  },
  {
   "cell_type": "code",
   "execution_count": null,
   "metadata": {},
   "outputs": [],
   "source": []
  }
 ],
 "metadata": {
  "kernelspec": {
   "display_name": "evaluator",
   "language": "python",
   "name": "python3"
  },
  "language_info": {
   "codemirror_mode": {
    "name": "ipython",
    "version": 3
   },
   "file_extension": ".py",
   "mimetype": "text/x-python",
   "name": "python",
   "nbconvert_exporter": "python",
   "pygments_lexer": "ipython3",
   "version": "3.12.3"
  }
 },
 "nbformat": 4,
 "nbformat_minor": 2
}
